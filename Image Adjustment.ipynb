{
 "cells": [
  {
   "cell_type": "code",
   "execution_count": null,
   "metadata": {},
   "outputs": [],
   "source": [
    "import numpy as np\n",
    "from matplotlib import rcParams\n",
    "import matplotlib.pyplot as plt\n",
    "from skimage import exposure, color, measure\n",
    "from ipywidgets import interact"
   ]
  },
  {
   "cell_type": "code",
   "execution_count": null,
   "metadata": {},
   "outputs": [],
   "source": [
    "%matplotlib notebook"
   ]
  },
  {
   "cell_type": "code",
   "execution_count": null,
   "metadata": {},
   "outputs": [],
   "source": [
    "pic = plt.imread(\"600px-Unequalized_Hawkes_Bay_NZ.jpg\")\n",
    "plt.figure()\n",
    "plt.imshow(pic, cmap='gray')"
   ]
  },
  {
   "cell_type": "code",
   "execution_count": null,
   "metadata": {},
   "outputs": [],
   "source": [
    "plt.figure()\n",
    "x = plt.hist(pic.ravel(), bins=256, range=(0,255))"
   ]
  },
  {
   "cell_type": "code",
   "execution_count": null,
   "metadata": {},
   "outputs": [],
   "source": [
    "p2, p98 = np.percentile(pic, (1, 99))\n",
    "stretch = exposure.rescale_intensity(pic, in_range=(p2, p98))\n",
    "eq = exposure.equalize_hist(pic)\n",
    "\n",
    "fig, ax = plt.subplots(2,3)\n",
    "ax[0,0].imshow(pic, cmap='gray')\n",
    "ax[0,1].imshow(stretch, cmap='gray')\n",
    "ax[0,2].imshow(eq, cmap='gray')\n",
    "x = ax[1,0].hist(pic.ravel(), bins=256, range=(0,255))\n",
    "img_cdf, bins = exposure.cumulative_distribution(pic, 256)\n",
    "ax[1,0].plot(bins, img_cdf*10000)\n",
    "x = ax[1,1].hist(stretch.ravel(), bins=256, range=(0,255))\n",
    "img_cdf, bins = exposure.cumulative_distribution(stretch, 256)\n",
    "ax[1,1].plot(bins, img_cdf*10000)\n",
    "x = ax[1,2].hist(eq.ravel()*256, bins=256, range=(0,255))\n",
    "img_cdf, bins = exposure.cumulative_distribution(eq*256, 256)\n",
    "ax[1,2].plot(bins, img_cdf*10000)\n",
    "\n",
    "ax[1,0].set_yticks([])\n",
    "ax[1,1].set_yticks([])\n",
    "ax[1,2].set_yticks([])"
   ]
  },
  {
   "cell_type": "code",
   "execution_count": null,
   "metadata": {},
   "outputs": [],
   "source": [
    "water = plt.imread(\"waterytart.png\")\n",
    "plt.figure()\n",
    "def gammaAdjust(gamma=1.0):\n",
    "    plt.imshow(exposure.adjust_gamma(water, gamma))\n",
    "\n",
    "interact(gammaAdjust, gamma=(0.1, 2))"
   ]
  },
  {
   "cell_type": "code",
   "execution_count": null,
   "metadata": {},
   "outputs": [],
   "source": [
    "turtle = plt.imread(\"turtle.png\")[:,:, 0:3]\n",
    "turtle = measure.block_reduce(turtle, (2,2,1), np.max)\n",
    "plt.figure()\n",
    "\n",
    "def hueAdjust(degreeShift=0):\n",
    "    turtle_hsv = color.rgb2hsv(turtle)\n",
    "    turtle_hsv[:,:,0] += degreeShift / 360\n",
    "    turtle_hsv[:,:,0] = turtle_hsv[:,:,0] % 1\n",
    "\n",
    "    plt.imshow(color.hsv2rgb(turtle_hsv))\n",
    "\n",
    "interact(hueAdjust, degreeShift=(0,359,10))"
   ]
  },
  {
   "cell_type": "code",
   "execution_count": null,
   "metadata": {},
   "outputs": [],
   "source": []
  }
 ],
 "metadata": {
  "kernelspec": {
   "display_name": "Python 3",
   "language": "python",
   "name": "python3"
  },
  "language_info": {
   "codemirror_mode": {
    "name": "ipython",
    "version": 3
   },
   "file_extension": ".py",
   "mimetype": "text/x-python",
   "name": "python",
   "nbconvert_exporter": "python",
   "pygments_lexer": "ipython3",
   "version": "3.7.5"
  }
 },
 "nbformat": 4,
 "nbformat_minor": 2
}
