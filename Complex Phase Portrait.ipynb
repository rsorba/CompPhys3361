{
 "cells": [
  {
   "cell_type": "markdown",
   "metadata": {},
   "source": [
    "### Hello Complex Students!\n",
    "\n",
    "This is a Jupyter Notebook. It is designed to let you interact with code and plots through a web browser. It is divided in to various cells. To run a cell, click on it and press <code>Shift + Enter</code>. Alternatively, you can run all the cells by clicking the \"Fast Forward\" button above. The code cells are dynamic, so feel free to edit and change variables as you desire.\n",
    "\n",
    "This particular notebook will let you make phase portraits of complex functions.\n",
    "\n",
    "**Step 1:**\n",
    "\n",
    "Load the necessary numerical and plotting libraries by running the next two cells"
   ]
  },
  {
   "cell_type": "code",
   "execution_count": null,
   "metadata": {},
   "outputs": [],
   "source": [
    "import numpy as np\n",
    "import matplotlib.pyplot as plt\n",
    "from matplotlib import colors\n",
    "from mpl_toolkits import mplot3d\n",
    "from ipywidgets import interact, fixed"
   ]
  },
  {
   "cell_type": "code",
   "execution_count": null,
   "metadata": {},
   "outputs": [],
   "source": [
    "%matplotlib notebook"
   ]
  },
  {
   "cell_type": "markdown",
   "metadata": {},
   "source": [
    "**Step 2:**\n",
    "\n",
    "Define the complex function you want plotted below. I have given an example."
   ]
  },
  {
   "cell_type": "code",
   "execution_count": null,
   "metadata": {},
   "outputs": [],
   "source": [
    "# function to be plotted\n",
    "def complexFunc(Z):\n",
    "    return (Z - 1) / (Z**2 + Z + 1)"
   ]
  },
  {
   "cell_type": "markdown",
   "metadata": {},
   "source": [
    "**Step 3:**\n",
    "\n",
    "Plot the interactive phase portrait by running the next two cells. It should produce a graph with several interactive sliders and check boxes. Play around until you make something pretty!"
   ]
  },
  {
   "cell_type": "code",
   "execution_count": null,
   "metadata": {},
   "outputs": [],
   "source": [
    "def showPhasePortrait(func=complexFunc, ax=None, boxbound=2, cmap='hsv', \n",
    "                      showModContour=False, f_mod=2, showPhaseContour=False, f_ph=4,  \n",
    "                      alpha=0.1):\n",
    "    \"\"\"Create phase portrait of a complex function.\n",
    "    \n",
    "    Args\n",
    "    ----\n",
    "    func: The complex function to be plotted.\n",
    "    ax (maplotlib axes object): Axes to show the picture on. Default of None will display on \n",
    "        the most recent set of axes.\n",
    "    boxbound (positive float): Defines the limits of the complex plane. Real and Imaginary \n",
    "        axes will be plotted from +/- boxbound.\n",
    "    cmap (string): Determine which color mapping to use for phase. Options are 'hsv' or \n",
    "        'twilight'. HSV will look like a rainbow and have red on the positive real number \n",
    "        line, blue on the negative real number line, yellow/green on the positive imaginary \n",
    "        line, and purple on the negative imaginary line. Twilight will have white on the \n",
    "        positive real number line, black on the negative real number line, blue on the \n",
    "        positive imaginary line, and red on the negative imaginary line.\n",
    "    showModContour (bool): If True, logarithmic modulus contours will be shown in greyscale.\n",
    "    f_mod (positive float): Frequency of modulus contours. Higher numbers will show more \n",
    "        contours.\n",
    "    showPhaseContour (bool): If True, phase contours will be shown in greyscale.\n",
    "    f_ph (positive float): Frequency of phase contours. Higher numbers will show more contours.\n",
    "    alpha (float between 0 and 1): Transparency of greyscale contours. \n",
    "    \"\"\"\n",
    "    x = np.arange(-boxbound, boxbound, boxbound/400)\n",
    "    X, Y = np.meshgrid(x, x)\n",
    "\n",
    "    # calculate function\n",
    "    Z = X + 1.j * Y\n",
    "    surface = func(Z)\n",
    "\n",
    "    # negative to induce 180 deg phase shift to make colormap red at zero phase\n",
    "    phase = np.angle(-surface) \n",
    "    modulus = np.abs(surface)\n",
    "    \n",
    "    if ax is None:\n",
    "        ax = plt.gca()\n",
    "    extent = [-boxbound, boxbound, -boxbound, boxbound]\n",
    "    ax.imshow(phase, cmap=cmap, origin='lowerleft', extent=extent)\n",
    "    \n",
    "    if showModContour:\n",
    "        modContour = np.ceil(np.log(modulus) * f_mod) - np.log(modulus) * f_mod\n",
    "        ax.imshow(modContour, cmap='Greys', origin='lowerleft', \n",
    "                   extent=extent, interpolation='bilinear', alpha=alpha)\n",
    "        \n",
    "    if showPhaseContour:\n",
    "        phaseContour = np.ceil(phase * f_ph/np.pi) - phase * f_ph/np.pi\n",
    "        ax.imshow(phaseContour, cmap='Greys', origin='lowerleft', \n",
    "                   extent=extent, interpolation='bilinear', alpha=alpha)\n",
    "        \n"
   ]
  },
  {
   "cell_type": "code",
   "execution_count": null,
   "metadata": {},
   "outputs": [],
   "source": [
    "plt.figure()\n",
    "interact(showPhasePortrait, boxbound=(1, 10, 1), f_mod=(1, 10, 1), f_ph=(1, 10, 1),\n",
    "         cmap=[\"hsv\", \"twilight\"], alpha=(0.05, 0.2, 0.02), \n",
    "         func=fixed(complexFunc), ax=fixed(None))"
   ]
  },
  {
   "cell_type": "code",
   "execution_count": null,
   "metadata": {},
   "outputs": [],
   "source": []
  }
 ],
 "metadata": {
  "kernelspec": {
   "display_name": "Python 3",
   "language": "python",
   "name": "python3"
  },
  "language_info": {
   "codemirror_mode": {
    "name": "ipython",
    "version": 3
   },
   "file_extension": ".py",
   "mimetype": "text/x-python",
   "name": "python",
   "nbconvert_exporter": "python",
   "pygments_lexer": "ipython3",
   "version": "3.7.5"
  }
 },
 "nbformat": 4,
 "nbformat_minor": 2
}
