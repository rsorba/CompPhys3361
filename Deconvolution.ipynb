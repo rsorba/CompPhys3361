{
 "cells": [
  {
   "cell_type": "code",
   "execution_count": null,
   "metadata": {},
   "outputs": [],
   "source": [
    "import numpy as np\n",
    "import matplotlib.pyplot as plt\n",
    "from scipy.signal import convolve2d\n",
    "from scipy import misc, ndimage\n",
    "from skimage import measure\n",
    "from ipywidgets import interact\n",
    "#from skimage import restoration"
   ]
  },
  {
   "cell_type": "code",
   "execution_count": null,
   "metadata": {},
   "outputs": [],
   "source": [
    "%matplotlib widget "
   ]
  },
  {
   "cell_type": "code",
   "execution_count": null,
   "metadata": {},
   "outputs": [],
   "source": [
    "autobots = plt.imread(\"Transformers-Logo.png\")\n",
    "autobots = np.average(autobots[:,:,:3], axis=2)\n",
    "plt.imshow(autobots, cmap='gray')"
   ]
  },
  {
   "cell_type": "code",
   "execution_count": null,
   "metadata": {},
   "outputs": [],
   "source": [
    "FourierTransformers = np.fft.fft2(autobots)\n",
    "plt.figure()\n",
    "plt.imshow(np.log10(np.fft.fftshift(np.abs(FourierTransformers))))"
   ]
  },
  {
   "cell_type": "code",
   "execution_count": null,
   "metadata": {},
   "outputs": [],
   "source": [
    "face = misc.face(True)\n",
    "face= measure.block_reduce(face, (2,2), np.max)\n",
    "plt.figure()\n",
    "plt.imshow(face, cmap='gray')"
   ]
  },
  {
   "cell_type": "code",
   "execution_count": null,
   "metadata": {},
   "outputs": [],
   "source": [
    "XX, YY = np.meshgrid(np.arange(64) - 32, np.arange(64) - 32)\n",
    "sigma = 3\n",
    "gaussian = 1 / (2 * np.pi * sigma**2) * np.exp(-(XX**2 + YY**2) / (2 * sigma**2))\n",
    "movement = gaussian * 0\n",
    "movement[np.abs(YY - 5*XX + 3) < 3] += 1\n",
    "movement[np.abs(YY) > 20] = 0\n",
    "psf = convolve2d(gaussian, movement, mode=\"same\")\n",
    "psf = psf / np.sum(psf)\n",
    "numpad0 = int((face.shape[0] - 64) / 2)\n",
    "numpad1 = int((face.shape[1] - 64) / 2)\n",
    "psf = np.pad(psf, ((numpad0,), (numpad1,)))\n",
    "plt.figure()\n",
    "plt.imshow(psf)"
   ]
  },
  {
   "cell_type": "code",
   "execution_count": null,
   "metadata": {},
   "outputs": [],
   "source": [
    "X = np.fft.fft2(face)\n",
    "H = np.fft.fft2(psf)\n",
    "blur = 1 / (X.shape[0] * X.shape[1]) * np.fft.fftshift(np.fft.ifft2(X * H).real)\n",
    "noise = np.random.randn(blur.shape[0], blur.shape[1]) * 0.01 * np.std(blur)\n",
    "blur += noise\n",
    "plt.figure()\n",
    "plt.imshow(blur, cmap='gray')"
   ]
  },
  {
   "cell_type": "code",
   "execution_count": null,
   "metadata": {},
   "outputs": [],
   "source": [
    "Y = np.fft.fft2(blur)\n",
    "plt.figure()\n",
    "\n",
    "def deconvolve(logalpha=-1):\n",
    "    alpha = 10**logalpha\n",
    "    G = np.conj(H) / (np.abs(H)**2 + alpha**2)\n",
    "    deconvolved = X.shape[1] * X.shape[0] * np.fft.fftshift(np.fft.ifft2(G * Y).real)\n",
    "    plt.imshow(deconvolved, cmap='gray')\n",
    "    \n",
    "interact(deconvolve, logalpha=(-4.0, 0))\n"
   ]
  },
  {
   "cell_type": "code",
   "execution_count": null,
   "metadata": {},
   "outputs": [],
   "source": []
  }
 ],
 "metadata": {
  "kernelspec": {
   "display_name": "Python 3 (ipykernel)",
   "language": "python",
   "name": "python3"
  },
  "language_info": {
   "codemirror_mode": {
    "name": "ipython",
    "version": 3
   },
   "file_extension": ".py",
   "mimetype": "text/x-python",
   "name": "python",
   "nbconvert_exporter": "python",
   "pygments_lexer": "ipython3",
   "version": "3.7.3"
  }
 },
 "nbformat": 4,
 "nbformat_minor": 2
}
