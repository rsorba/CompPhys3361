{
 "cells": [
  {
   "cell_type": "code",
   "execution_count": null,
   "metadata": {},
   "outputs": [],
   "source": [
    "import numpy as np\n",
    "from matplotlib import rcParams\n",
    "import matplotlib.pyplot as plt\n",
    "from scipy.signal import convolve2d, convolve\n",
    "from skimage import data, measure \n",
    "from skimage.color import rgb2gray\n",
    "from ipywidgets import interact, interactive, interact_manual, fixed\n",
    "from IPython.display import Latex, Math, Markdown\n",
    "import pandas as pd"
   ]
  },
  {
   "cell_type": "code",
   "execution_count": null,
   "metadata": {},
   "outputs": [],
   "source": [
    "%matplotlib notebook\n"
   ]
  },
  {
   "cell_type": "code",
   "execution_count": null,
   "metadata": {},
   "outputs": [],
   "source": [
    "%%javascript\n",
    "IPython.OutputArea.prototype._should_scroll = function(lines) {\n",
    "    return false;\n",
    "}"
   ]
  },
  {
   "cell_type": "code",
   "execution_count": null,
   "metadata": {},
   "outputs": [],
   "source": [
    "# 1D examples\n",
    "\n",
    "df = pd.read_csv(\"BTC_USD_2018-11-01_2019-10-31-CoinDesk.csv\", index_col=False) \n",
    "\n",
    "plt.figure()\n",
    "plt.plot(df['Closing Price (USD)'], linewidth=3)\n",
    "\n",
    "ra7 = np.ones(7) / 7\n",
    "ra30 = np.ones(30) / 30\n",
    "\n",
    "c7 = convolve(df['Closing Price (USD)'], ra7, mode='same')\n",
    "c30 = convolve(df['Closing Price (USD)'], ra30, mode='same')\n",
    "\n",
    "plt.plot(c7, linewidth=3)\n",
    "plt.plot(c30, linewidth=3)"
   ]
  },
  {
   "cell_type": "code",
   "execution_count": null,
   "metadata": {},
   "outputs": [],
   "source": [
    "plt.figure()\n",
    "plt.plot(df['Closing Price (USD)'], linewidth=3)\n",
    "c7 = convolve(np.pad(df['Closing Price (USD)'], 6, mode='edge'), ra7, mode='same')\n",
    "c30 = convolve(np.pad(df['Closing Price (USD)'], 29, mode='edge'), ra30, mode='same')\n",
    "\n",
    "plt.plot(c7[7:-7], linewidth=3)\n",
    "plt.plot(c30[30:-30], linewidth=3)"
   ]
  },
  {
   "cell_type": "code",
   "execution_count": null,
   "metadata": {},
   "outputs": [],
   "source": [
    "plt.figure()\n",
    "plt.plot(np.gradient(df['Closing Price (USD)']))\n",
    "plt.plot(np.gradient(c30[30:-30]))\n",
    "\n",
    "kernel = [1, -1]\n",
    "# plt.plot(convolve(df['Closing Price (USD)'], kernel, mode='same')[1:])"
   ]
  },
  {
   "cell_type": "code",
   "execution_count": null,
   "metadata": {},
   "outputs": [],
   "source": [
    "display(Markdown('### Step1: Choose Image'))\n",
    "images = [data.astronaut,\n",
    "         #data.brick(),\n",
    "         data.camera,\n",
    "         #data.cell,\n",
    "         data.checkerboard,\n",
    "         data.chelsea,\n",
    "         data.coffee,\n",
    "         #data.grass,\n",
    "         #data.gravel,\n",
    "         data.hubble_deep_field,\n",
    "         data.moon,\n",
    "         data.retina]\n",
    "\n",
    "fig, ax1 = plt.subplots()\n",
    "def showImage(imageNum=0):\n",
    "    img = images[imageNum]()\n",
    "    if len(img.shape) == 3:\n",
    "        # convert from color to grey scale\n",
    "        img = rgb2gray(img)\n",
    "    ax1.imshow(img, cmap='gray')\n",
    "    \n",
    "w = interactive(showImage, imageNum=(0,len(images)-1, 1))\n",
    "display(w)\n",
    "\n",
    "display(Markdown('***'))\n",
    "display(Markdown('### Step 2: Choose Kernel'))\n",
    "\n",
    "def showKernel(a11=0, a12=0, a13=0, a21=0, a22=1, a23=0, a31=0, a32=0, a33=0):\n",
    "    string = r'\\begin{bmatrix}'\n",
    "    string += r'%i & %i & %i \\\\' % (a11, a12, a13)\n",
    "    string += r'%i & %i & %i \\\\' % (a21, a22, a23)\n",
    "    string += r'%i & %i & %i' % (a31, a32, a33)\n",
    "    string += r'\\end{bmatrix}'\n",
    "    display(Math(string))\n",
    "    \n",
    "h = interactive(showKernel, a11=(-9,9,1), a12=(-9,9,1), a13=(-9,9,1),\n",
    "                a21=(-9,9,1), a22=(-9,9,1), a23=(-9,9,1),\n",
    "                a31=(-9,9,1), a32=(-9,9,1), a33=(-9,9,1))\n",
    "display(h)\n",
    "\n",
    "display(Markdown('***'))\n",
    "display(Markdown('### Step 3: Convolve Image with Kernel'))\n",
    "\n",
    "fig, ax2 = plt.subplots(1,2)\n",
    "def conv(w, h):\n",
    "    ax2[0].clear()\n",
    "    ax2[1].clear()\n",
    "    \n",
    "    img = images[w.children[0].value]()\n",
    "    if len(img.shape) == 3:\n",
    "        # convert from color to grey scale\n",
    "        img = rgb2gray(img)\n",
    "    \n",
    "    kernel = [[h.children[0].value, h.children[1].value, h.children[2].value],\n",
    "              [h.children[3].value, h.children[4].value, h.children[5].value],\n",
    "              [h.children[6].value, h.children[7].value, h.children[8].value]]\n",
    "    \n",
    "    obs = convolve2d(img, kernel, mode=\"same\")\n",
    "    obs -= np.min(obs)\n",
    "    obs = obs / np.max(obs) * np.max(img)\n",
    "    \n",
    "    ax2[0].imshow(img, cmap='gray')\n",
    "    ax2[0].set_xlabel('Original')\n",
    "    ax2[1].imshow(obs, cmap='gray')\n",
    "    ax2[1].set_xlabel('Convolved')\n",
    "    \n",
    "y = interact_manual(conv, w=fixed(w), h=fixed(h))\n",
    "y.widget.children[0].description = 'Convolve!'\n",
    "display(y)"
   ]
  },
  {
   "cell_type": "code",
   "execution_count": null,
   "metadata": {},
   "outputs": [],
   "source": []
  }
 ],
 "metadata": {
  "kernelspec": {
   "display_name": "Python 3",
   "language": "python",
   "name": "python3"
  },
  "language_info": {
   "codemirror_mode": {
    "name": "ipython",
    "version": 3
   },
   "file_extension": ".py",
   "mimetype": "text/x-python",
   "name": "python",
   "nbconvert_exporter": "python",
   "pygments_lexer": "ipython3",
   "version": "3.6.8"
  }
 },
 "nbformat": 4,
 "nbformat_minor": 2
}
