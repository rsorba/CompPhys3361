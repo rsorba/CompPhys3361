{
 "cells": [
  {
   "cell_type": "code",
   "execution_count": null,
   "metadata": {},
   "outputs": [],
   "source": [
    "import matplotlib.pyplot as plt\n",
    "import numpy as np\n",
    "import ipywidgets as widgets\n",
    "from ipywidgets import interact\n",
    "import IPython.display as ipd\n",
    "import wave"
   ]
  },
  {
   "cell_type": "code",
   "execution_count": null,
   "metadata": {},
   "outputs": [],
   "source": [
    "%matplotlib notebook"
   ]
  },
  {
   "cell_type": "markdown",
   "metadata": {},
   "source": [
    "### Demo 1\n",
    "\n",
    "Run the cells below to set up an interactive demo. There is a continuous signal with frequency 261 Hz (Middle C). Interactively adjust the frequency to see how undersampling can lead to erroneous alias signals at lower frequencies."
   ]
  },
  {
   "cell_type": "code",
   "execution_count": null,
   "metadata": {},
   "outputs": [],
   "source": [
    "#set up \"continuous\" time\n",
    "realTime = np.linspace(0, 1, 100000)\n",
    "signalFreq = 261\n",
    "inputSignal = np.sin(2 * np.pi * signalFreq * realTime)"
   ]
  },
  {
   "cell_type": "code",
   "execution_count": null,
   "metadata": {},
   "outputs": [],
   "source": [
    "fig = plt.figure()\n",
    "ax = fig.add_subplot(1, 1, 1)\n",
    "sampleFreq = 1000\n",
    "sampleTime = np.arange(0, 1, 1/sampleFreq)\n",
    "sampledSignal = np.sin(2 * np.pi * signalFreq * sampleTime)\n",
    "line, = ax.plot(realTime, inputSignal)\n",
    "dots, = ax.plot(sampleTime, sampledSignal, 'o')\n",
    "ax.set_xlim(0,0.1)\n",
    "\n",
    "def update(sampleFreq=1000):\n",
    "    sampleTime = np.arange(0, 1, 1/sampleFreq)\n",
    "    sampledSignal = np.sin(2 * np.pi * signalFreq * sampleTime)\n",
    "    dots.set_xdata(sampleTime)\n",
    "    dots.set_ydata(sampledSignal)\n",
    "    fig.canvas.draw_idle()\n",
    "\n",
    "interact(update, sampleFreq=(50, 1000));"
   ]
  },
  {
   "cell_type": "markdown",
   "metadata": {},
   "source": [
    "### Demo 2\n",
    "\n",
    "In this example we are going to keep the sampling rate constant at 3000 Hz, and change the frequency of the note that we are sampling. \n",
    "\n",
    "Run the cells below to make an audible tone from our sampled signal. The note starts at 200 Hz, and you can interactively change what note we are sampling.\n",
    "\n",
    "What happens as the frequency of the note increases? Pay particular attention to what happens when the note frequency rises past half the sampling frequency (1500 Hz), past the sampling frequency (3000 Hz), an past 3/2 the sampling frequency (4500 Hz). Explain what is causing this.\n",
    "\n",
    "What do you hear when the note is exactly the same as the sampling frequency? Explain."
   ]
  },
  {
   "cell_type": "code",
   "execution_count": null,
   "metadata": {},
   "outputs": [],
   "source": [
    "def makeAudio(freq=200):\n",
    "    sampleFreq = 3000 # sample rate\n",
    "    T = 2.0    # seconds\n",
    "    t = np.linspace(0, T, int(T * sampleFreq), endpoint=False) # time variable\n",
    "    sampledSignal = 0.5 * np.sin(2 * np.pi * freq * t)                \n",
    "    ipd.display(ipd.Audio(sampledSignal, rate=sampleFreq))\n"
   ]
  },
  {
   "cell_type": "code",
   "execution_count": null,
   "metadata": {},
   "outputs": [],
   "source": [
    "interact(makeAudio, freq=(200, 6000, 200));"
   ]
  },
  {
   "cell_type": "code",
   "execution_count": null,
   "metadata": {},
   "outputs": [],
   "source": []
  }
 ],
 "metadata": {
  "kernelspec": {
   "display_name": "Python 3",
   "language": "python",
   "name": "python3"
  },
  "language_info": {
   "codemirror_mode": {
    "name": "ipython",
    "version": 3
   },
   "file_extension": ".py",
   "mimetype": "text/x-python",
   "name": "python",
   "nbconvert_exporter": "python",
   "pygments_lexer": "ipython3",
   "version": "3.7.3"
  }
 },
 "nbformat": 4,
 "nbformat_minor": 2
}
